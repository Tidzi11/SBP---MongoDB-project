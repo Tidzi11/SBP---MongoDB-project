{
 "cells": [
  {
   "cell_type": "markdown",
   "id": "6895058a",
   "metadata": {},
   "source": [
    "# **US Flights 2023:** Flight Delay Analysis"
   ]
  },
  {
   "cell_type": "markdown",
   "id": "2880540b",
   "metadata": {},
   "source": [
    "## **Section 1:** Imports"
   ]
  },
  {
   "cell_type": "code",
   "execution_count": 1,
   "id": "4d80f196",
   "metadata": {},
   "outputs": [],
   "source": [
    "import sys"
   ]
  },
  {
   "cell_type": "code",
   "execution_count": 3,
   "id": "90d54764",
   "metadata": {},
   "outputs": [],
   "source": [
    "sys.path.append(\"../scripts\")"
   ]
  },
  {
   "cell_type": "code",
   "execution_count": 4,
   "id": "0ffb7681",
   "metadata": {},
   "outputs": [],
   "source": [
    "import utils \n",
    "import load_data\n",
    "import query"
   ]
  },
  {
   "cell_type": "markdown",
   "id": "b950184d",
   "metadata": {},
   "source": [
    "## **Section 2:** Create conncetion with MongoDB"
   ]
  },
  {
   "cell_type": "code",
   "execution_count": 5,
   "id": "6cca305a",
   "metadata": {},
   "outputs": [],
   "source": [
    "MONGO_URI = \"mongodb://localhost:27017/\"\n",
    "MONGO_DATABASE_NAME = \"flights_delay_db\""
   ]
  },
  {
   "cell_type": "code",
   "execution_count": 6,
   "id": "237df9a3",
   "metadata": {},
   "outputs": [
    {
     "name": "stdout",
     "output_type": "stream",
     "text": [
      "Databases: ['admin', 'config', 'flights_db', 'local']\n",
      "MongoDB connection established to database: flights_delay_db\n"
     ]
    }
   ],
   "source": [
    "client, database = utils.connect_to_mongodb(MONGO_URI, MONGO_DATABASE_NAME, timeout=5000)"
   ]
  },
  {
   "cell_type": "markdown",
   "id": "92442491",
   "metadata": {},
   "source": [
    "## **Section 3:** Load data"
   ]
  },
  {
   "cell_type": "code",
   "execution_count": 7,
   "id": "a72c3099",
   "metadata": {},
   "outputs": [
    {
     "name": "stdout",
     "output_type": "stream",
     "text": [
      "Loading data from us-flights-2023.csv\n",
      "Inserted 10000 records into collection 'us_flights_2023'\n",
      "Loading data from cancelled-diverted-2023.csv\n",
      "Inserted 10000 records into collection 'cancelled_deverted_2023'\n",
      "Loading data from weather-meteo-by-airport.csv\n",
      "Inserted 10000 records into collection 'weather_meteo_by_airport'\n",
      "Loading data from airports-geolocation.csv\n",
      "Inserted 364 records into collection 'airports_geolocation'\n",
      "Loading data from airports.csv\n",
      "Inserted 10000 records into collection 'airports'\n",
      "Loading data from airport-frequencies.csv\n",
      "Inserted 10000 records into collection 'airport_frequencies'\n",
      "Loading data from runways.csv\n",
      "Inserted 10000 records into collection 'runways'\n",
      "Data loading completed.\n"
     ]
    }
   ],
   "source": [
    "is_loaded = load_data.load_data_to_mongodb(database)\n",
    "\n",
    "if is_loaded:\n",
    "    print(\"Raw data loaded successfully into MongoDB.\")"
   ]
  },
  {
   "cell_type": "code",
   "execution_count": 8,
   "id": "e7fc41fb",
   "metadata": {},
   "outputs": [
    {
     "name": "stdout",
     "output_type": "stream",
     "text": [
      "Available collections in database: ['airport_frequencies', 'us_flights_2023', 'airports', 'cancelled_deverted_2023', 'runways', 'airports_geolocation', 'weather_meteo_by_airport']\n"
     ]
    }
   ],
   "source": [
    "collections = database.list_collection_names()\n",
    "print(\"Available collections in database:\", collections)"
   ]
  },
  {
   "cell_type": "markdown",
   "id": "c19edcb5",
   "metadata": {},
   "source": [
    "## **Section 4:** Query analysis"
   ]
  },
  {
   "cell_type": "markdown",
   "id": "1e1e2034",
   "metadata": {},
   "source": [
    "### **Data Structure**"
   ]
  },
  {
   "cell_type": "markdown",
   "id": "986f358d",
   "metadata": {},
   "source": [
    "#### **File 1:** `us-flights-2023.csv`"
   ]
  },
  {
   "cell_type": "markdown",
   "id": "2cfcc8c0",
   "metadata": {},
   "source": [
    "| Field | Type | Description |\n",
    "|-------|-----|------|\n",
    "| FlightDate | Date | Flight date (YYYY-MM-DD) |\n",
    "| Day_Of_Week | Integer | Day of week (1-7, 1=Monday) |\n",
    "| Airline | String | Airline name |\n",
    "| Tail_number | String | Unique aircraft identifier |\n",
    "| Dep_Airport | String | Departure airport IATA code |\n",
    "| Dep_CityName | String | Departure city name |\n",
    "| DepTime_label | String | Departure time interval |\n",
    "| Dep_Delay | Integer | Departure delay in minutes |\n",
    "| Dep_Delay_Tag | Integer | Delay indicator (0/1) |\n",
    "| Dep_Delay_Type | String | Departure delay type |\n",
    "| Arr_Airport | String | Arrival airport IATA code |\n",
    "| Arr_CityName | String | Arrival city name |\n",
    "| Arr_Delay | Integer | Arrival delay in minutes |\n",
    "| Arr_Delay_Type | String | Arrival delay type |\n",
    "| Flight_Duration | Integer | Flight duration in minutes |\n",
    "| Distance_type | String | Distance category (Short, Medium, Long) |\n",
    "| Delay_Carrier | Integer | Carrier delay (min) |\n",
    "| Delay_Weather | Integer | Weather delay (min) |\n",
    "| Delay_NAS | Integer | NAS system delay (min) |\n",
    "| Delay_Security | Integer | Security delay (min) |\n",
    "| Delay_LastAircraft | Integer | Previous flight delay (min) |\n",
    "| Manufacturer | String | Aircraft manufacturer |\n",
    "| Model | String | Aircraft model |\n",
    "| Aircraft_age | Float | Aircraft age in years |\n",
    "\n",
    "**Number of rows:** 6,743,404  \n",
    "**Number of columns:** 24"
   ]
  },
  {
   "cell_type": "markdown",
   "id": "19cc5b9f",
   "metadata": {},
   "source": [
    "#### **File 2:** `cancelled-diverted-2023.csv`"
   ]
  },
  {
   "cell_type": "markdown",
   "id": "0236450d",
   "metadata": {},
   "source": [
    "| Field | Type | Description |\n",
    "|-------|-----|------|\n",
    "| FlightDate | Date | Flight date (YYYY-MM-DD) |\n",
    "| Day_Of_Week | Integer | Day of week (1-7, 1=Monday) |\n",
    "| Airline | String | Airline name |\n",
    "| Tail_Number | String | Unique aircraft identifier |\n",
    "| Cancelled | Integer | Cancellation indicator (0/1) |\n",
    "| Diverted | Integer | Diversion indicator (0/1) |\n",
    "| Dep_Airport | String | Departure airport IATA code |\n",
    "| Arr_Airport | String | Arrival airport IATA code |\n",
    "| Dep_CityName | String | Departure city |\n",
    "| Arr_CityName | String | Arrival city |\n",
    "| DepTime_label | String | Departure time interval |\n",
    "| Dep_Delay | Integer | Departure delay (min) |\n",
    "| Arr_Delay | Integer | Arrival delay (min) |\n",
    "| Dep_Delay_Tag | Integer | Departure delay indicator (0/1) |\n",
    "| Arr_Delay_Tag | Integer | Arrival delay indicator (0/1) |\n",
    "| Dep_Delay_Type | String | Departure delay type |\n",
    "| Arr_Delay_Type | String | Arrival delay type |\n",
    "| Flight_Duration | Integer | Flight duration (min) |\n",
    "| Distance_type | String | Distance category |\n",
    "| Delay_Carrier | Integer | Carrier delay (min) |\n",
    "| Delay_Weather | Integer | Weather delay (min) |\n",
    "| Delay_NAS | Integer | NAS system delay (min) |\n",
    "| Delay_Security | Integer | Security delay (min) |\n",
    "| Delay_LastAircraft | Integer | Previous flight delay (min) |\n",
    "\n",
    "**Number of rows:** 104,488  \n",
    "**Number of columns:** 23"
   ]
  },
  {
   "cell_type": "markdown",
   "id": "15b998ad",
   "metadata": {},
   "source": [
    "#### **File 3:** `weather-meteo-by-airport.csv`"
   ]
  },
  {
   "cell_type": "markdown",
   "id": "07c8586a",
   "metadata": {},
   "source": [
    "| Field | Type | Description |\n",
    "|-------|-----|------|\n",
    "| time | DateTime | Measurement date and time |\n",
    "| tavg | Float | Average temperature (°C) |\n",
    "| tmin | Float | Minimum temperature (°C) |\n",
    "| tmax | Float | Maximum temperature (°C) |\n",
    "| prcp | Float | Precipitation (mm) |\n",
    "| snow | Float | Snow (mm) |\n",
    "| wdir | Float | Wind direction (degrees) |\n",
    "| wspd | Float | Wind speed (km/h) |\n",
    "| pres | Float | Atmospheric pressure (hPa) |\n",
    "| airport_id | String | Airport IATA code |\n",
    "\n",
    "**Number of rows:** 132,860  \n",
    "**Number of columns:** 10"
   ]
  },
  {
   "cell_type": "markdown",
   "id": "48e0b80f",
   "metadata": {},
   "source": [
    "#### **File 4:** `airports-geolocation.csv`"
   ]
  },
  {
   "cell_type": "markdown",
   "id": "a1c38345",
   "metadata": {},
   "source": [
    "| Field | Type | Description |\n",
    "|-------|-----|------|\n",
    "| IATA_CODE | String | Airport IATA code |\n",
    "| AIRPORT | String | Airport name |\n",
    "| CITY | String | City |\n",
    "| STATE | String | State |\n",
    "| COUNTRY | String | Country |\n",
    "| LATITUDE | Float | Geographic latitude |\n",
    "| LONGITUDE | Float | Geographic longitude |\n",
    "\n",
    "**Number of rows:** 364  \n",
    "**Number of columns:** 7"
   ]
  },
  {
   "cell_type": "markdown",
   "id": "9041518a",
   "metadata": {},
   "source": [
    "#### **File 5:** `airports.csv`"
   ]
  },
  {
   "cell_type": "markdown",
   "id": "b2400764",
   "metadata": {},
   "source": [
    "| Field | Type | Description |\n",
    "|-------|-----|------|\n",
    "| id | Integer | Unique identifier |\n",
    "| ident | String | Airport ICAO code |\n",
    "| type | String | Airport type |\n",
    "| name | String | Full airport name |\n",
    "| latitude_deg | Float | Geographic latitude |\n",
    "| longitude_deg | Float | Geographic longitude |\n",
    "| elevation_ft | Integer | Elevation (ft) |\n",
    "| continent | String | Continent |\n",
    "| iso_country | String | ISO country code |\n",
    "| iso_region | String | ISO region code |\n",
    "| municipality | String | Municipality/city |\n",
    "| scheduled_service | String | Scheduled flights (yes/no) |\n",
    "| gps_code | String | GPS code |\n",
    "| iata_code | String | IATA code |\n",
    "| local_code | String | Local code |\n",
    "| home_link | String | Homepage URL |\n",
    "| wikipedia_link | String | Wikipedia link |\n",
    "| keywords | String | Keywords |\n",
    "\n",
    "**Number of rows:** 61,221  \n",
    "**Number of columns:** 18"
   ]
  },
  {
   "cell_type": "markdown",
   "id": "a96e4780",
   "metadata": {},
   "source": [
    "#### **File 6:** `airport-frequencies.csv`"
   ]
  },
  {
   "cell_type": "markdown",
   "id": "97b3bff5",
   "metadata": {},
   "source": [
    "| Field | Type | Description |\n",
    "|-------|-----|------|\n",
    "| id | Integer | Unique identifier |\n",
    "| airport_ref | Integer | Reference to airports.id |\n",
    "| airport_ident | String | Airport ICAO code |\n",
    "| type | String | Frequency type |\n",
    "| description | String | Frequency description |\n",
    "| frequency_mhz | Float | Frequency (MHz) |\n",
    "\n",
    "**Number of rows:** 28,927  \n",
    "**Number of columns:** 6"
   ]
  },
  {
   "cell_type": "markdown",
   "id": "3b86ffe2",
   "metadata": {},
   "source": [
    "#### **File 7:** `runways.csv`"
   ]
  },
  {
   "cell_type": "markdown",
   "id": "92427893",
   "metadata": {},
   "source": [
    "| Field | Type | Description |\n",
    "|-------|-----|------|\n",
    "| id | Integer | Unique identifier |\n",
    "| airport_ref | Integer | Reference to airports.id |\n",
    "| airport_ident | String | Airport ICAO code |\n",
    "| length_ft | Integer | Runway length (ft) |\n",
    "| width_ft | Integer | Runway width (ft) |\n",
    "| surface | String | Runway surface material |\n",
    "| lighted | Integer | Lighting (1=yes, 0=no) |\n",
    "| closed | Integer | Closed (1=yes, 0=no) |\n",
    "| le_ident | String | Lower end identifier |\n",
    "| le_latitude_deg | Float | Lower end latitude |\n",
    "| le_longitude_deg | Float | Lower end longitude |\n",
    "| le_elevation_ft | Float | Lower end elevation (ft) |\n",
    "| le_heading_degT | Float | Lower end azimuth |\n",
    "| le_displaced_threshold_ft | Integer | Lower end threshold displacement |\n",
    "| he_ident | String | Higher end identifier |\n",
    "| he_latitude_deg | Float | Higher end latitude |\n",
    "| he_longitude_deg | Float | Higher end longitude |\n",
    "| he_elevation_ft | Float | Higher end elevation (ft) |\n",
    "| he_heading_degT | Float | Higher end azimuth |\n",
    "| he_displaced_threshold_ft | Integer | Higher end threshold displacement |\n",
    "\n",
    "**Number of rows:** 41,761  \n",
    "**Number of columns:** 20"
   ]
  },
  {
   "cell_type": "markdown",
   "id": "44cff1b0",
   "metadata": {},
   "source": [
    "#### **Keys for Joining**"
   ]
  },
  {
   "cell_type": "markdown",
   "id": "3fba77dc",
   "metadata": {},
   "source": [
    "- **US_flights_2023.Dep_Airport** ↔ **Airports_Geolocation.IATA_CODE**\n",
    "- **US_flights_2023.Dep_Airport** ↔ **Weather_Meteo_by_Airport.airport_id**\n",
    "- **Airports.iata_code** ↔ **US_flights_2023.Dep_Airport**\n",
    "- **Airports.ident** ↔ **Airport_Frequencies.airport_ident**\n",
    "- **Airports.ident** ↔ **Runways.airport_ident**"
   ]
  },
  {
   "cell_type": "markdown",
   "id": "9bb098c2",
   "metadata": {},
   "source": [
    "##### Test Query"
   ]
  },
  {
   "cell_type": "code",
   "execution_count": 9,
   "id": "9a4fa5e6",
   "metadata": {},
   "outputs": [],
   "source": [
    "test_query = [\n",
    "    {\n",
    "        \"$match\": {\n",
    "            \"Dep_Delay\": {\"$gt\": 15}\n",
    "        }\n",
    "    },\n",
    "    {\"$limit\": 5} \n",
    "]"
   ]
  },
  {
   "cell_type": "code",
   "execution_count": 10,
   "id": "56991b99",
   "metadata": {},
   "outputs": [
    {
     "name": "stdout",
     "output_type": "stream",
     "text": [
      "Found 5 flights (showing only 5 for testing)\n",
      "\n",
      "Flight 1:\n",
      "  Date: 2023-01-11\n",
      "  Airline: Endeavor Air\n",
      "  Dep_Airport: LGA\n",
      "  Dep_Delay: 35 minutes\n",
      "\n",
      "Flight 2:\n",
      "  Date: 2023-01-12\n",
      "  Airline: Endeavor Air\n",
      "  Dep_Airport: LGA\n",
      "  Dep_Delay: 132 minutes\n",
      "\n",
      "Flight 3:\n",
      "  Date: 2023-01-19\n",
      "  Airline: Endeavor Air\n",
      "  Dep_Airport: LGA\n",
      "  Dep_Delay: 676 minutes\n",
      "\n",
      "Flight 4:\n",
      "  Date: 2023-01-22\n",
      "  Airline: Endeavor Air\n",
      "  Dep_Airport: LGA\n",
      "  Dep_Delay: 29 minutes\n",
      "\n",
      "Flight 5:\n",
      "  Date: 2023-01-23\n",
      "  Airline: Endeavor Air\n",
      "  Dep_Airport: LGA\n",
      "  Dep_Delay: 27 minutes\n",
      "\n"
     ]
    }
   ],
   "source": [
    "test_results = list(database.us_flights_2023.aggregate(test_query))\n",
    "\n",
    "print(f\"Found {len(test_results)} flights (showing only 5 for testing)\\n\")\n",
    "\n",
    "for i, flight in enumerate(test_results, 1):\n",
    "    print(f\"Flight {i}:\")\n",
    "    print(f\"  Date: {flight.get('FlightDate')}\")\n",
    "    print(f\"  Airline: {flight.get('Airline')}\")\n",
    "    print(f\"  Dep_Airport: {flight.get('Dep_Airport')}\")\n",
    "    print(f\"  Dep_Delay: {flight.get('Dep_Delay')} minutes\")\n",
    "    print()"
   ]
  },
  {
   "cell_type": "markdown",
   "id": "4fe4d93d",
   "metadata": {},
   "source": [
    "##### **Create Indexes for query optimization**"
   ]
  },
  {
   "cell_type": "code",
   "execution_count": 11,
   "id": "236088ff",
   "metadata": {},
   "outputs": [
    {
     "name": "stdout",
     "output_type": "stream",
     "text": [
      "Current indexes on us_flights_2023:\n",
      "  - _id_: SON([('_id', 1)])\n",
      "\n",
      "Created index 'idx_airport_id' on weather_meteo_by_airport.airport_id\n",
      "Created index 'idx_dep_airport' on us_flights_2023.Dep_Airport\n",
      "Created index 'idx_dep_delay' on us_flights_2023.Dep_Delay\n",
      "Created index 'idx_iata_code' on airports.iata_code\n",
      "Created index 'idx_ident' on airports.ident\n",
      "Created index 'idx_runway_airport_ident' on runways.airport_ident\n"
     ]
    }
   ],
   "source": [
    "# Check existing indexes first\n",
    "print(\"Current indexes on us_flights_2023:\")\n",
    "for index in database.us_flights_2023.list_indexes():\n",
    "    print(f\"  - {index['name']}: {index.get('key', {})}\")\n",
    "print()\n",
    "\n",
    "# Create indexes\n",
    "indexes_to_create = [\n",
    "    (\"weather_meteo_by_airport\", \"airport_id\", \"idx_airport_id\"),\n",
    "    (\"us_flights_2023\", \"Dep_Airport\", \"idx_dep_airport\"),\n",
    "    (\"us_flights_2023\", \"Dep_Delay\", \"idx_dep_delay\"),\n",
    "    (\"airports\", \"iata_code\", \"idx_iata_code\"),\n",
    "    (\"airports\", \"ident\", \"idx_ident\"),\n",
    "    (\"runways\", \"airport_ident\", \"idx_runway_airport_ident\"),\n",
    "]\n",
    "\n",
    "for collection_name, field, index_name in indexes_to_create:\n",
    "    try:\n",
    "        result = database[collection_name].create_index(\n",
    "            [(field, 1)],\n",
    "            name=index_name,\n",
    "            background=True  # Creates index in background\n",
    "        )\n",
    "        print(f\"Created index '{index_name}' on {collection_name}.{field}\")\n",
    "    except Exception as e:\n",
    "        # Index might already exist\n",
    "        if \"already exists\" in str(e):\n",
    "            print(f\"Index '{index_name}' already exists on {collection_name}.{field}\")\n",
    "        else:\n",
    "            print(f\"Error creating '{index_name}': {e}\")"
   ]
  },
  {
   "cell_type": "markdown",
   "id": "e3821fd4",
   "metadata": {},
   "source": [
    "### **Query 1:** Large airports with high delays in bad weather"
   ]
  },
  {
   "cell_type": "markdown",
   "id": "9587aced",
   "metadata": {},
   "source": [
    "What are the 'large_airport' airports with an average departure delay of more than 15 minutes, when the precipitation was greater than 10 mm, and have runways longer than 10,000 feet?"
   ]
  },
  {
   "cell_type": "markdown",
   "id": "9f0ead14",
   "metadata": {},
   "source": [
    "> **Upit 1:** Koji su aerodromi tipa 'large_airport' sa prosečnim kašnjenjem polaska većim od 15 minuta, kada su padavine bile veće od 10 mm, i imaju piste duže od 10,000 stopa?"
   ]
  },
  {
   "cell_type": "code",
   "execution_count": 12,
   "id": "d61a11ba",
   "metadata": {},
   "outputs": [],
   "source": [
    "pipeline_query_1 = [\n",
    "    {\n",
    "        \"$match\": {\n",
    "            \"Dep_Delay\": {\"$gt\": 5, \"$ne\": None}\n",
    "        }\n",
    "    },\n",
    "    {\n",
    "        \"$lookup\": {\n",
    "            \"from\": \"weather_meteo_by_airport\",\n",
    "            \"localField\": \"Dep_Airport\",\n",
    "            \"foreignField\": \"airport_id\",\n",
    "            \"as\": \"weather_info\"\n",
    "        }\n",
    "    },\n",
    "    {\n",
    "        \"$unwind\": {\n",
    "            \"path\": \"$weather_info\",\n",
    "            \"preserveNullAndEmptyArrays\": False\n",
    "        }\n",
    "    },\n",
    "    {\n",
    "        \"$match\": {\n",
    "            \"weather_info.prcp\": {\"$gt\": 2, \"$ne\": None}\n",
    "        }\n",
    "    },\n",
    "    {\n",
    "        \"$group\": {\n",
    "            \"_id\": \"$Dep_Airport\",\n",
    "            \"avg_delay\": {\"$avg\": \"$Dep_Delay\"},\n",
    "            \"total_flights\": {\"$sum\": 1},\n",
    "            \"avg_precipitation\": {\"$avg\": \"$weather_info.prcp\"}\n",
    "        }\n",
    "    },\n",
    "    {\n",
    "        \"$sort\": {\"avg_delay\": -1}\n",
    "    },\n",
    "    {\n",
    "        \"$limit\": 5\n",
    "    }\n",
    "]"
   ]
  },
  {
   "cell_type": "code",
   "execution_count": 13,
   "id": "9461bb41",
   "metadata": {},
   "outputs": [
    {
     "name": "stdout",
     "output_type": "stream",
     "text": [
      "Executing query: Large airports with high delays in bad weather\n",
      "Query 'Large airports with high delays in bad weather' execution time: 0.9692 seconds\n"
     ]
    }
   ],
   "source": [
    "query_results, execution_time = query.execute_query(database.us_flights_2023, pipeline_query_1, \"Large airports with high delays in bad weather\")"
   ]
  },
  {
   "cell_type": "markdown",
   "id": "5a4a9bf2",
   "metadata": {},
   "source": [
    "### **Query 2:** Airlines with weather-related delays at high-elevation airports"
   ]
  },
  {
   "cell_type": "markdown",
   "id": "452ac36f",
   "metadata": {},
   "source": [
    "Which airlines have the most weather-related delays (weather delay > 10 minutes), for flights from airports with an altitude of more than 500 feet and more than 5 communication frequencies?"
   ]
  },
  {
   "cell_type": "markdown",
   "id": "b6128233",
   "metadata": {},
   "source": [
    "> **Upit 2:** Koje avio-kompanije imaju najviše kašnjenja uzrokovanih vremenskim uslovima (vremensko kašnjenje > 10 minuta), za letove sa aerodroma sa nadmorskom visinom većom od 500 stopa i više od 5 komunikacionih frekvencija?"
   ]
  },
  {
   "cell_type": "code",
   "execution_count": 14,
   "id": "91357251",
   "metadata": {},
   "outputs": [],
   "source": [
    "pipeline_query_2 = [\n",
    "    # Stage 1: Filter flights with significant weather delays\n",
    "    {\n",
    "        \"$match\" : {\n",
    "            \"Delay_Weather\": {\"$gt\": 10, \"$ne\": None}\n",
    "        }\n",
    "    },\n",
    "    # STAGE 2: Join with airports to get elevation data\n",
    "    {\n",
    "        \"$lookup\" : {\n",
    "            \"from\": \"airports\",\n",
    "            \"localField\": \"Dep_Airport\",\n",
    "            \"foreignField\": \"iata_code\",\n",
    "            \"as\": \"airport_info\"\n",
    "        }\n",
    "    },\n",
    "    # STAGE 3: Unwind airport info (convert array to individual documents)\n",
    "    {\n",
    "        \"$unwind\": {\n",
    "            \"path\": \"$airport_info\",\n",
    "            \"preserveNullAndEmptyArrays\": False\n",
    "        }\n",
    "    },\n",
    "    # STAGE 4: Filter airports with elevation > 500 ft\n",
    "    {\n",
    "        \"$match\": {\n",
    "            \"airport_info.elevation_ft\": {\"$gt\": 500, \"$ne\": None}\n",
    "        }\n",
    "    },\n",
    "    # STAGE 5: Join with airport_frequencies\n",
    "    {\n",
    "        \"$lookup\": {\n",
    "            \"from\": \"airport_frequencies\",\n",
    "            \"localField\": \"airport_info.ident\",   # ICAO kod (KATL)\n",
    "            \"foreignField\": \"airport_ident\",\n",
    "            \"as\": \"frequencies\"\n",
    "        }\n",
    "    },\n",
    "    # STAGE 6: Add field with frequency count\n",
    "    {\n",
    "        \"$addFields\": {\n",
    "            \"frequency_count\": {\"$size\": \"$frequencies\"}\n",
    "        }\n",
    "    },\n",
    "    # STAGE 7: Filter airports with more than 5 frequencies\n",
    "    {\n",
    "        \"$match\": {\n",
    "            \"frequency_count\": {\"$gt\": 5}\n",
    "        }\n",
    "    },\n",
    "    # STAGE 8: Group by airline and calculate statistics\n",
    "    {\n",
    "        \"$group\": {\n",
    "            \"_id\": \"$Airline\",                           # Group by airline\n",
    "            \"total_weather_delays\": {\"$sum\": 1},         # Count delays\n",
    "            \"avg_delay_minutes\": {\"$avg\": \"$Delay_Weather\"},\n",
    "            \"total_delay_minutes\": {\"$sum\": \"$Delay_Weather\"},\n",
    "            \"affected_airports\": {\"$addToSet\": \"$Dep_Airport\"}  # Unique airports\n",
    "        }\n",
    "    },\n",
    "    # STAGE 9: Sort by total delays (descending)\n",
    "    {\n",
    "        \"$sort\": {\"total_weather_delays\": -1}\n",
    "    },\n",
    "    # STAGE 10: Limit to top 10 airlines\n",
    "    {\n",
    "        \"$limit\": 10\n",
    "    }\n",
    "]"
   ]
  },
  {
   "cell_type": "code",
   "execution_count": 15,
   "id": "044137f6",
   "metadata": {},
   "outputs": [
    {
     "name": "stdout",
     "output_type": "stream",
     "text": [
      "Executing query: Airlines with weather-related delays at high-elevation airports\n",
      "Query 'Airlines with weather-related delays at high-elevation airports' execution time: 0.0585 seconds\n"
     ]
    }
   ],
   "source": [
    "query_results, execution_time = query.execute_query(database.us_flights_2023, pipeline_query_2, \"Airlines with weather-related delays at high-elevation airports\")"
   ]
  },
  {
   "cell_type": "markdown",
   "id": "7a1d98e6",
   "metadata": {},
   "source": [
    "### **Query 3:** Average age of old aircraft with NAS delays on lit asphalt runways"
   ]
  },
  {
   "cell_type": "markdown",
   "id": "0713ea99",
   "metadata": {},
   "source": [
    "What is the average age of aircraft older than 10 years for flights with a delay caused by the national aviation system (NAS delay > 5 minutes), at airports with asphalt runways and lighting?"
   ]
  },
  {
   "cell_type": "markdown",
   "id": "b4d5fcfd",
   "metadata": {},
   "source": [
    "> **Upit 3:** Koja je prosečna starost aviona starijih od 10 godina za letove sa kašnjenjem uzrokovanim nacionalnim avio-sistemom (NAS kašnjenje > 5 minuta), na aerodromima sa asfaltnom pistom i osvetljenjem?"
   ]
  },
  {
   "cell_type": "code",
   "execution_count": 16,
   "id": "912eaec2",
   "metadata": {},
   "outputs": [],
   "source": [
    "pipeline_query_3 = [\n",
    "    # STAGE 1: Filter flights with NAS delays and old aircraft\n",
    "    {\n",
    "        \"$match\": {\n",
    "            \"Delay_NAS\": {\"$gt\": 5, \"$ne\": None},\n",
    "            \"Aicraft_age\": {\"$gt\": 10, \"$ne\": None}\n",
    "        }\n",
    "    },\n",
    "    # STAGE 2: Join with airports to get airport identifier (ident)\n",
    "    {\n",
    "        \"$lookup\": {\n",
    "            \"from\": \"airports\",\n",
    "            \"localField\": \"Dep_Airport\",\n",
    "            \"foreignField\": \"iata_code\",\n",
    "            \"as\": \"airport_info\"\n",
    "        }\n",
    "    },\n",
    "    # STAGE 3: Unwind airport info\n",
    "    {\n",
    "        \"$unwind\": {\n",
    "            \"path\": \"$airport_info\",\n",
    "            \"preserveNullAndEmptyArrays\": False\n",
    "        }\n",
    "    },\n",
    "    # STAGE 4: Join with runways to get runway details\n",
    "    {\n",
    "        \"$lookup\": {\n",
    "            \"from\": \"runways\",\n",
    "            \"localField\": \"airport_info.ident\",  # ICAO kod\n",
    "            \"foreignField\": \"airport_ident\",\n",
    "            \"as\": \"runway_info\"\n",
    "        }\n",
    "    },\n",
    "    # STAGE 5: Unwind runway info\n",
    "    {\n",
    "        \"$unwind\": {\n",
    "            \"path\": \"$runway_info\",\n",
    "            \"preserveNullAndEmptyArrays\": False\n",
    "        }\n",
    "    },\n",
    "    # STAGE 6: Filter for asphalt runways with lighting\n",
    "    {\n",
    "        \"$match\": {\n",
    "            \"runway_info.surface\": \"Asphalt\",\n",
    "            \"runway_info.lighted\": 1\n",
    "        }\n",
    "    }\n",
    "]"
   ]
  },
  {
   "cell_type": "code",
   "execution_count": 17,
   "id": "ee32fe6a",
   "metadata": {},
   "outputs": [
    {
     "name": "stdout",
     "output_type": "stream",
     "text": [
      "Executing query: Average age of old aircraft with NAS delays on lit asphalt runways\n",
      "Query 'Average age of old aircraft with NAS delays on lit asphalt runways' execution time: 0.0860 seconds\n"
     ]
    }
   ],
   "source": [
    "query_results, execution_time = query.execute_query(database.us_flights_2023, pipeline_query_3, \"Average age of old aircraft with NAS delays on lit asphalt runways\")"
   ]
  },
  {
   "cell_type": "markdown",
   "id": "4ccc91b6",
   "metadata": {},
   "source": [
    "### **Query 4:** Cities with most diverted flights in high wind conditions"
   ]
  },
  {
   "cell_type": "markdown",
   "id": "3db2f3ed",
   "metadata": {},
   "source": [
    "Which cities have the most diverted flights when the wind direction is greater than 180 degrees and the wind speed is over 20 km/h?"
   ]
  },
  {
   "cell_type": "markdown",
   "id": "d24b3584",
   "metadata": {},
   "source": [
    "> **Upit 4:** Koji gradovi imaju najviše preusmerenih letova kada je smer vetra veći od 180 stepeni i brzina vetra preko 20 km/h?"
   ]
  },
  {
   "cell_type": "code",
   "execution_count": 18,
   "id": "74468ae5",
   "metadata": {},
   "outputs": [],
   "source": [
    "pipeline_query_4 = [\n",
    "    # STAGE 1: Filter diverted flights only\n",
    "    {\n",
    "        \"$match\": {\n",
    "            \"Diverted\": 1  # Note: Number 1, not string \"1\"\n",
    "        }\n",
    "    },\n",
    "    # STAGE 2: Join with weather data\n",
    "    {\n",
    "        \"$lookup\": {\n",
    "            \"from\": \"weather_meteo_by_airport\",\n",
    "            \"localField\": \"Dep_Airport\",\n",
    "            \"foreignField\": \"airport_id\",\n",
    "            \"as\": \"weather_info\"\n",
    "        }\n",
    "    },\n",
    "    # STAGE 3: Unwind weather info\n",
    "    {\n",
    "        \"$unwind\": {\n",
    "            \"path\": \"$weather_info\",\n",
    "            \"preserveNullAndEmptyArrays\": False\n",
    "        }\n",
    "    },\n",
    "    # STAGE 4: Filter for high wind conditions\n",
    "    {\n",
    "        \"$match\": {\n",
    "            \"weather_info.wdir\": {\"$gt\": 180, \"$ne\": None},\n",
    "            \"weather_info.wspd\": {\"$gt\": 20, \"$ne\": None}\n",
    "        }\n",
    "    },\n",
    "    # STAGE 5: Join with geolocation to get city names\n",
    "    {\n",
    "        \"$lookup\": {\n",
    "            \"from\": \"airports_geolocation\",\n",
    "            \"localField\": \"Dep_Airport\",\n",
    "            \"foreignField\": \"IATA_CODE\",\n",
    "            \"as\": \"geo_info\"\n",
    "        }\n",
    "    },\n",
    "    # STAGE 6: Unwind geolocation info\n",
    "    {\n",
    "        \"$unwind\": {\n",
    "            \"path\": \"$geo_info\",\n",
    "            \"preserveNullAndEmptyArrays\": False\n",
    "        }\n",
    "    },\n",
    "    # STAGE 7: Group by city and count diversions\n",
    "    {\n",
    "        \"$group\": {\n",
    "            \"_id\": {\n",
    "                \"city\": \"$geo_info.CITY\",\n",
    "                \"state\": \"$geo_info.STATE\"\n",
    "            },\n",
    "            \"total_diversions\": {\"$sum\": 1},\n",
    "            \"avg_wind_speed\": {\"$avg\": \"$weather_info.wspd\"},\n",
    "            \"avg_wind_direction\": {\"$avg\": \"$weather_info.wdir\"},\n",
    "            \"affected_airports\": {\"$addToSet\": \"$Dep_Airport\"}\n",
    "        }\n",
    "    },\n",
    "    # STAGE 8: Sort by number of diversions (descending)\n",
    "    {\n",
    "        \"$sort\": {\"total_diversions\": -1}\n",
    "    },\n",
    "    \n",
    "    # STAGE 9: Limit to top 10 cities\n",
    "    {\n",
    "        \"$limit\": 10\n",
    "    }\n",
    "]"
   ]
  },
  {
   "cell_type": "code",
   "execution_count": 19,
   "id": "54ba6db5",
   "metadata": {},
   "outputs": [
    {
     "name": "stdout",
     "output_type": "stream",
     "text": [
      "Executing query: Cities with most diverted flights in high wind conditions\n",
      "Query 'Cities with most diverted flights in high wind conditions' execution time: 0.0220 seconds\n"
     ]
    }
   ],
   "source": [
    "query_results, execution_time = query.execute_query(database.us_flights_2023, pipeline_query_4, \"Cities with most diverted flights in high wind conditions\")"
   ]
  },
  {
   "cell_type": "markdown",
   "id": "b8abb635",
   "metadata": {},
   "source": [
    "### **Query 5:** Aircraft models with late aircraft delays at medium airports"
   ]
  },
  {
   "cell_type": "markdown",
   "id": "a11f9245",
   "metadata": {},
   "source": [
    "Which aircraft models have the most delays caused by a late aircraft (delay > 15 minutes), at 'medium_airport' airports with more than 3 runways?"
   ]
  },
  {
   "cell_type": "markdown",
   "id": "a3726afc",
   "metadata": {},
   "source": [
    "> **Upit 5:** Koji modeli aviona imaju najviše kašnjenja uzrokovanih kasnim avionom (kašnjenje > 15 minuta), na aerodromima tipa 'medium_airport' sa više od 3 piste?"
   ]
  },
  {
   "cell_type": "code",
   "execution_count": 20,
   "id": "0119e915",
   "metadata": {},
   "outputs": [],
   "source": [
    "pipeline_query_5 = [\n",
    "    # STAGE 1: Filter flights with late aircraft delays > 15 minutes\n",
    "    {\n",
    "        \"$match\": {\n",
    "            \"Delay_LastAircraft\": {\"$gt\": 15, \"$ne\": None}\n",
    "        }\n",
    "    },\n",
    "    # STAGE 2: Join with airports to get airport type\n",
    "    {\n",
    "        \"$lookup\": {\n",
    "            \"from\": \"airports\",\n",
    "            \"localField\": \"Dep_Airport\",\n",
    "            \"foreignField\": \"iata_code\",\n",
    "            \"as\": \"airport_info\"\n",
    "        }\n",
    "    },\n",
    "    # STAGE 3: Unwind airport info\n",
    "    {\n",
    "        \"$unwind\": {\n",
    "            \"path\": \"$airport_info\",\n",
    "            \"preserveNullAndEmptyArrays\": False\n",
    "        }\n",
    "    },\n",
    "    # STAGE 4: Filter for medium airports\n",
    "    {\n",
    "        \"$match\": {\n",
    "            \"airport_info.type\": \"medium_airport\"\n",
    "        }\n",
    "    },\n",
    "    # STAGE 5: Join with runways to get runway information\n",
    "    {\n",
    "        \"$lookup\": {\n",
    "            \"from\": \"runways\",\n",
    "            \"localField\": \"airport_info.ident\",  # ICAO kod\n",
    "            \"foreignField\": \"airport_ident\",\n",
    "            \"as\": \"runways_info\"\n",
    "        }\n",
    "    },\n",
    "    # STAGE 6: Add field with runway count\n",
    "    {\n",
    "        \"$addFields\": {\n",
    "            \"runway_count\": {\"$size\": \"$runways_info\"}\n",
    "        }\n",
    "    },\n",
    "    # STAGE 7: Filter airports with more than 3 runways\n",
    "    {\n",
    "        \"$match\": {\n",
    "            \"runway_count\": {\"$gt\": 3}\n",
    "        }\n",
    "    },\n",
    "    # STAGE 8: Sort by total delays (descending)\n",
    "    {\n",
    "        \"$sort\": {\"total_delays\": -1}\n",
    "    },\n",
    "    # STAGE 10: Limit to top 10 aircraft models\n",
    "    {\n",
    "        \"$limit\": 10\n",
    "    }\n",
    "]"
   ]
  },
  {
   "cell_type": "code",
   "execution_count": 21,
   "id": "9874c151",
   "metadata": {},
   "outputs": [
    {
     "name": "stdout",
     "output_type": "stream",
     "text": [
      "Executing query: Aircraft models with late aircraft delays at medium airports\n",
      "Query 'Aircraft models with late aircraft delays at medium airports' execution time: 0.0955 seconds\n"
     ]
    }
   ],
   "source": [
    "query_results, execution_time = query.execute_query(database.us_flights_2023, pipeline_query_5, \"Aircraft models with late aircraft delays at medium airports\")"
   ]
  },
  {
   "cell_type": "markdown",
   "id": "e5876786",
   "metadata": {},
   "source": [
    "### **Query 6:** Average departure delay for morning flights in snowy conditions at TWR airports"
   ]
  },
  {
   "cell_type": "markdown",
   "id": "ca48d4bc",
   "metadata": {},
   "source": [
    "What is the average departure delay for morning flights (DepTime_label = 'Morning') at airports where there was snow (snow > 0) and use frequency type 'TWR'?"
   ]
  },
  {
   "cell_type": "markdown",
   "id": "c007b61f",
   "metadata": {},
   "source": [
    "> **Upit 6:** Koji je prosečni delay polaska za jutarnje letove (DepTime_label = 'Morning') na aerodromima gde je bilo snega (snow > 0) i koriste frekvenciju tipa 'TWR'?"
   ]
  },
  {
   "cell_type": "code",
   "execution_count": 22,
   "id": "bf848878",
   "metadata": {},
   "outputs": [],
   "source": [
    "pipeline_query_6 = [\n",
    "    # STAGE 1: Filter morning flights\n",
    "    {\n",
    "        \"$match\": {\n",
    "            \"DepTime_label\": \"Morning\",\n",
    "            \"Dep_Delay\": {\"$ne\": None}\n",
    "        }\n",
    "    },\n",
    "    # STAGE 2: Join with weather data for snow conditions\n",
    "    {\n",
    "        \"$lookup\": {\n",
    "            \"from\": \"weather_meteo_by_airport\",\n",
    "            \"localField\": \"Dep_Airport\",\n",
    "            \"foreignField\": \"airport_id\",\n",
    "            \"as\": \"weather_info\"\n",
    "        }\n",
    "    },\n",
    "    # STAGE 3: Unwind weather info\n",
    "    {\n",
    "        \"$unwind\": {\n",
    "            \"path\": \"$weather_info\",\n",
    "            \"preserveNullAndEmptyArrays\": False\n",
    "        }\n",
    "    },\n",
    "    # STAGE 4: Filter for snowy conditions\n",
    "    {\n",
    "        \"$match\": {\n",
    "            \"weather_info.snow\": {\"$gt\": 0, \"$ne\": None}\n",
    "        }\n",
    "    },\n",
    "    # STAGE 5: Join with airports to get ident for frequency lookup\n",
    "    {\n",
    "        \"$lookup\": {\n",
    "            \"from\": \"airports\",\n",
    "            \"localField\": \"Dep_Airport\",\n",
    "            \"foreignField\": \"iata_code\",\n",
    "            \"as\": \"airport_info\"\n",
    "        }\n",
    "    },\n",
    "    # STAGE 6: Unwind airport info\n",
    "    {\n",
    "        \"$unwind\": {\n",
    "            \"path\": \"$airport_info\",\n",
    "            \"preserveNullAndEmptyArrays\": False\n",
    "        }\n",
    "    },\n",
    "    # STAGE 7: Join with frequencies to find TWR frequencies\n",
    "    {\n",
    "        \"$lookup\": {\n",
    "            \"from\": \"airport_frequencies\",\n",
    "            \"localField\": \"airport_info.ident\",\n",
    "            \"foreignField\": \"airport_ident\",\n",
    "            \"as\": \"frequencies\"\n",
    "        }\n",
    "    },\n",
    "    # STAGE 8: Filter for airports with TWR frequency type\n",
    "    {\n",
    "        \"$match\": {\n",
    "            \"frequencies.type\": \"TWR\"\n",
    "        }\n",
    "    },\n",
    "    # STAGE 9: Group and calculate average delay\n",
    "    {\n",
    "        \"$group\": {\n",
    "            \"_id\": \"$Dep_Airport\",\n",
    "            \"avg_departure_delay\": {\"$avg\": \"$Dep_Delay\"},\n",
    "            \"total_morning_flights\": {\"$sum\": 1},\n",
    "            \"avg_snow\": {\"$avg\": \"$weather_info.snow\"},\n",
    "            \"airport_name\": {\"$first\": \"$airport_info.name\"}\n",
    "        }\n",
    "    },\n",
    "    # STAGE 10: Sort by average delay (descending)\n",
    "    {\n",
    "        \"$sort\": {\"avg_departure_delay\": -1}\n",
    "    },\n",
    "    # STAGE 11: Limit to top 10 results\n",
    "    {\n",
    "        \"$limit\": 10\n",
    "    }\n",
    "]"
   ]
  },
  {
   "cell_type": "code",
   "execution_count": 23,
   "id": "2904e39e",
   "metadata": {},
   "outputs": [
    {
     "name": "stdout",
     "output_type": "stream",
     "text": [
      "Executing query: Average departure delay for morning flights in snowy conditions at TWR airports\n",
      "Query 'Average departure delay for morning flights in snowy conditions at TWR airports' execution time: 0.9246 seconds\n"
     ]
    }
   ],
   "source": [
    "query_results, execution_time = query.execute_query(database.us_flights_2023, pipeline_query_6, \"Average departure delay for morning flights in snowy conditions at TWR airports\")"
   ]
  },
  {
   "cell_type": "markdown",
   "id": "3e02fd68",
   "metadata": {},
   "source": [
    "### **Query 7:** Aircraft manufacturers with most cancelled flights at airports with local codes"
   ]
  },
  {
   "cell_type": "markdown",
   "id": "6031fe3c",
   "metadata": {},
   "source": [
    "Which aircraft manufacturers have the most canceled flights at airports that have a locale code?"
   ]
  },
  {
   "cell_type": "markdown",
   "id": "e7529a3d",
   "metadata": {},
   "source": [
    "> **Upit 7:** Koji proizvođači aviona imaju najviše otkazanih letova na aerodromima koji imaju lokalni kod?"
   ]
  },
  {
   "cell_type": "code",
   "execution_count": 24,
   "id": "2dd2787a",
   "metadata": {},
   "outputs": [],
   "source": [
    "pipeline_query_7 = [\n",
    "    # STAGE 1: Filter cancelled flights\n",
    "    {\n",
    "        \"$match\": {\n",
    "            \"Cancelled\": 1\n",
    "        }\n",
    "    },\n",
    "    # STAGE 2: Join with airports to check for local codes\n",
    "    {\n",
    "        \"$lookup\": {\n",
    "            \"from\": \"airports\",\n",
    "            \"localField\": \"Dep_Airport\",\n",
    "            \"foreignField\": \"iata_code\",\n",
    "            \"as\": \"airport_info\"\n",
    "        }\n",
    "    },\n",
    "    # STAGE 3: Unwind airport info\n",
    "    {\n",
    "        \"$unwind\": {\n",
    "            \"path\": \"$airport_info\",\n",
    "            \"preserveNullAndEmptyArrays\": False\n",
    "        }\n",
    "    },\n",
    "    # STAGE 4: Filter airports that have local codes\n",
    "    {\n",
    "        \"$match\": {\n",
    "            \"airport_info.local_code\": {\"$ne\": None, \"$ne\": \"\"}\n",
    "        }\n",
    "    },\n",
    "    # STAGE 5: Group by manufacturer and count cancellations\n",
    "    {\n",
    "        \"$group\": {\n",
    "            \"_id\": \"$Manufacturer\",\n",
    "            \"total_cancellations\": {\"$sum\": 1},\n",
    "            \"affected_airports\": {\"$addToSet\": \"$Dep_Airport\"},\n",
    "            \"cancellation_rate\": {\n",
    "                \"$avg\": {\n",
    "                    \"$cond\": [{\"$eq\": [\"$Cancelled\", 1]}, 1, 0]\n",
    "                }\n",
    "            }\n",
    "        }\n",
    "    },\n",
    "    # STAGE 6: Sort by total cancellations (descending)\n",
    "    {\n",
    "        \"$sort\": {\"total_cancellations\": -1}\n",
    "    },\n",
    "    # STAGE 7: Limit to top 10 manufacturers\n",
    "    {\n",
    "        \"$limit\": 10\n",
    "    }\n",
    "]"
   ]
  },
  {
   "cell_type": "code",
   "execution_count": 25,
   "id": "6388b095",
   "metadata": {},
   "outputs": [
    {
     "name": "stdout",
     "output_type": "stream",
     "text": [
      "Executing query: Aircraft manufacturers with most cancelled flights at airports with local codes\n",
      "Query 'Aircraft manufacturers with most cancelled flights at airports with local codes' execution time: 0.0200 seconds\n"
     ]
    }
   ],
   "source": [
    "query_results, execution_time = query.execute_query(database.us_flights_2023, pipeline_query_7, \"Aircraft manufacturers with most cancelled flights at airports with local codes\")"
   ]
  },
  {
   "cell_type": "markdown",
   "id": "3b1be701",
   "metadata": {},
   "source": [
    "### **Query 8:** Airports with highest NAS delay proportion by day of week"
   ]
  },
  {
   "cell_type": "markdown",
   "id": "563b5a55",
   "metadata": {},
   "source": [
    "Which airports have the highest proportion of delays caused by NAS (Delay_NAS) on certain days of the week?"
   ]
  },
  {
   "cell_type": "markdown",
   "id": "2305f14f",
   "metadata": {},
   "source": [
    "> **Upit 8:** Koji aerodromi imaju najveći udeo kašnjenja uzrokovanih NAS-om (Delay_NAS) tokom određenih dana u nedelji?"
   ]
  },
  {
   "cell_type": "code",
   "execution_count": 26,
   "id": "b6d21891",
   "metadata": {},
   "outputs": [],
   "source": [
    "pipeline_query_8 = [\n",
    "    # STAGE 1: Filter flights with NAS delays\n",
    "    {\n",
    "        \"$match\": {\n",
    "            \"Delay_NAS\": {\"$gt\": 0, \"$ne\": None}\n",
    "        }\n",
    "    },\n",
    "    # STAGE 2: Calculate total delay and NAS delay proportion\n",
    "    {\n",
    "        \"$addFields\": {\n",
    "            \"total_delay\": {\n",
    "                \"$add\": [\n",
    "                    {\"$ifNull\": [\"$Delay_Carrier\", 0]},\n",
    "                    {\"$ifNull\": [\"$Delay_Weather\", 0]},\n",
    "                    {\"$ifNull\": [\"$Delay_NAS\", 0]},\n",
    "                    {\"$ifNull\": [\"$Delay_Security\", 0]},\n",
    "                    {\"$ifNull\": [\"$Delay_LastAircraft\", 0]}\n",
    "                ]\n",
    "            }\n",
    "        }\n",
    "    },\n",
    "    # STAGE 3: Calculate NAS delay proportion\n",
    "    {\n",
    "        \"$addFields\": {\n",
    "            \"nas_proportion\": {\n",
    "                \"$cond\": [\n",
    "                    {\"$gt\": [\"$total_delay\", 0]},\n",
    "                    {\"$divide\": [\"$Delay_NAS\", \"$total_delay\"]},\n",
    "                    0\n",
    "                ]\n",
    "            }\n",
    "        }\n",
    "    },\n",
    "    # STAGE 4: Group by airport and day of week\n",
    "    {\n",
    "        \"$group\": {\n",
    "            \"_id\": {\n",
    "                \"airport\": \"$Dep_Airport\",\n",
    "                \"day_of_week\": \"$Day_Of_Week\"\n",
    "            },\n",
    "            \"avg_nas_proportion\": {\"$avg\": \"$nas_proportion\"},\n",
    "            \"total_nas_delays\": {\"$sum\": 1},\n",
    "            \"avg_nas_delay_minutes\": {\"$avg\": \"$Delay_NAS\"},\n",
    "            \"total_flights\": {\"$sum\": 1}\n",
    "        }\n",
    "    },\n",
    "    # STAGE 5: Calculate NAS delay percentage\n",
    "    {\n",
    "        \"$addFields\": {\n",
    "            \"nas_delay_percentage\": {\"$multiply\": [\"$avg_nas_proportion\", 100]}\n",
    "        }\n",
    "    },\n",
    "    # STAGE 6: Sort by NAS delay percentage (descending)\n",
    "    {\n",
    "        \"$sort\": {\"nas_delay_percentage\": -1}\n",
    "    },\n",
    "    # STAGE 7: Group by day to get top airports per day\n",
    "    {\n",
    "        \"$group\": {\n",
    "            \"_id\": \"$_id.day_of_week\",\n",
    "            \"top_airports\": {\n",
    "                \"$push\": {\n",
    "                    \"airport\": \"$_id.airport\",\n",
    "                    \"nas_delay_percentage\": \"$nas_delay_percentage\",\n",
    "                    \"total_nas_delays\": \"$total_nas_delays\",\n",
    "                    \"avg_nas_delay_minutes\": \"$avg_nas_delay_minutes\"\n",
    "                }\n",
    "            }\n",
    "        }\n",
    "    },\n",
    "    # STAGE 8: Get top 3 airports per day\n",
    "    {\n",
    "        \"$project\": {\n",
    "            \"day_of_week\": \"$_id\",\n",
    "            \"top_airports\": {\"$slice\": [\"$top_airports\", 3]},\n",
    "            \"_id\": 0\n",
    "        }\n",
    "    },\n",
    "    # STAGE 9: Sort by day of week\n",
    "    {\n",
    "        \"$sort\": {\"day_of_week\": 1}\n",
    "    }\n",
    "]"
   ]
  },
  {
   "cell_type": "code",
   "execution_count": 27,
   "id": "b1c3b46a",
   "metadata": {},
   "outputs": [
    {
     "name": "stdout",
     "output_type": "stream",
     "text": [
      "Executing query: Airports with highest NAS delay proportion by day of week\n",
      "Query 'Airports with highest NAS delay proportion by day of week' execution time: 0.0390 seconds\n"
     ]
    }
   ],
   "source": [
    "query_results, execution_time = query.execute_query(database.us_flights_2023, pipeline_query_8, \"Airports with highest NAS delay proportion by day of week\")"
   ]
  },
  {
   "cell_type": "markdown",
   "id": "89d19b6d",
   "metadata": {},
   "source": [
    "### **Query 9:** Most common aircraft models for long-distance flights from NYC with displaced thresholds"
   ]
  },
  {
   "cell_type": "markdown",
   "id": "b2be3d2c",
   "metadata": {},
   "source": [
    "What are the most common long-haul (Distance_type = 'Long') aircraft models departing from New York airport with a runway threshold displacement (le_displaced_threshold_ft > 0)?"
   ]
  },
  {
   "cell_type": "markdown",
   "id": "07129cd4",
   "metadata": {},
   "source": [
    "> **Upit 9:** Koji su najčešći modeli aviona za letove na duge distance (Distance_type = 'Long') koji poleću sa aerodroma u Njujorku sa pomerajem praga piste (le_displaced_threshold_ft > 0)?"
   ]
  },
  {
   "cell_type": "code",
   "execution_count": 28,
   "id": "401fb466",
   "metadata": {},
   "outputs": [],
   "source": [
    "pipeline_query_9 = [\n",
    "    # STAGE 1: Filter long-distance flights from New York airports\n",
    "    {\n",
    "        \"$match\": {\n",
    "            \"Distance_type\": \"Long\",\n",
    "            \"Dep_CityName\": {\"$regex\": \"New York\", \"$options\": \"i\"},\n",
    "            \"Model\": {\"$ne\": None, \"$ne\": \"\"}\n",
    "        }\n",
    "    },\n",
    "    # STAGE 2: Join with airports to get ICAO ident\n",
    "    {\n",
    "        \"$lookup\": {\n",
    "            \"from\": \"airports\",\n",
    "            \"localField\": \"Dep_Airport\",\n",
    "            \"foreignField\": \"iata_code\",\n",
    "            \"as\": \"airport_info\"\n",
    "        }\n",
    "    },\n",
    "    # STAGE 3: Unwind airport info\n",
    "    {\n",
    "        \"$unwind\": {\n",
    "            \"path\": \"$airport_info\",\n",
    "            \"preserveNullAndEmptyArrays\": False\n",
    "        }\n",
    "    },\n",
    "    # STAGE 4: Join with runways to check for displaced thresholds\n",
    "    {\n",
    "        \"$lookup\": {\n",
    "            \"from\": \"runways\",\n",
    "            \"localField\": \"airport_info.ident\",\n",
    "            \"foreignField\": \"airport_ident\",\n",
    "            \"as\": \"runway_info\"\n",
    "        }\n",
    "    },\n",
    "    # STAGE 5: Unwind runway info\n",
    "    {\n",
    "        \"$unwind\": {\n",
    "            \"path\": \"$runway_info\",\n",
    "            \"preserveNullAndEmptyArrays\": False\n",
    "        }\n",
    "    },\n",
    "    # STAGE 6: Filter runways with displaced thresholds\n",
    "    {\n",
    "        \"$match\": {\n",
    "            \"$or\": [\n",
    "                {\"runway_info.le_displaced_threshold_ft\": {\"$gt\": 0}},\n",
    "                {\"runway_info.he_displaced_threshold_ft\": {\"$gt\": 0}}\n",
    "            ]\n",
    "        }\n",
    "    },\n",
    "    # STAGE 7: Group by aircraft model and count occurrences\n",
    "    {\n",
    "        \"$group\": {\n",
    "            \"_id\": {\n",
    "                \"manufacturer\": \"$Manufacturer\",\n",
    "                \"model\": \"$Model\"\n",
    "            },\n",
    "            \"total_flights\": {\"$sum\": 1},\n",
    "            \"airports\": {\"$addToSet\": \"$Dep_Airport\"},\n",
    "            \"avg_flight_duration\": {\"$avg\": \"$Flight_Duration\"},\n",
    "            \"avg_departure_delay\": {\"$avg\": \"$Dep_Delay\"}\n",
    "        }\n",
    "    },\n",
    "    # STAGE 8: Sort by total flights (descending)\n",
    "    {\n",
    "        \"$sort\": {\"total_flights\": -1}\n",
    "    },\n",
    "    # STAGE 9: Limit to top 10 aircraft models\n",
    "    {\n",
    "        \"$limit\": 10\n",
    "    },\n",
    "    # STAGE 10: Project final format\n",
    "    {\n",
    "        \"$project\": {\n",
    "            \"aircraft_model\": {\n",
    "                \"manufacturer\": \"$_id.manufacturer\",\n",
    "                \"model\": \"$_id.model\"\n",
    "            },\n",
    "            \"total_flights\": 1,\n",
    "            \"airports_used\": {\"$size\": \"$airports\"},\n",
    "            \"avg_flight_duration_minutes\": {\"$round\": [\"$avg_flight_duration\", 2]},\n",
    "            \"avg_departure_delay_minutes\": {\"$round\": [\"$avg_departure_delay\", 2]},\n",
    "            \"_id\": 0\n",
    "        }\n",
    "    }\n",
    "]"
   ]
  },
  {
   "cell_type": "code",
   "execution_count": 29,
   "id": "8bf0e78b",
   "metadata": {},
   "outputs": [
    {
     "name": "stdout",
     "output_type": "stream",
     "text": [
      "Executing query: Most common aircraft models for long-distance flights from NYC with displaced thresholds\n",
      "Query 'Most common aircraft models for long-distance flights from NYC with displaced thresholds' execution time: 0.0200 seconds\n"
     ]
    }
   ],
   "source": [
    "query_results, execution_time = query.execute_query(database.us_flights_2023, pipeline_query_9, \"Most common aircraft models for long-distance flights from NYC with displaced thresholds\")"
   ]
  },
  {
   "cell_type": "markdown",
   "id": "a782316b",
   "metadata": {},
   "source": [
    "### **Query 10:** Airports with longest average flight duration for late aircraft delays in low pressure"
   ]
  },
  {
   "cell_type": "markdown",
   "id": "66b6c5a3",
   "metadata": {},
   "source": [
    "Which airports have the longest average flight duration for flights with a delay caused by a late aircraft (Delay_LastAircraft > 10 minutes), in low pressure conditions (pres < 1000 hPa), and home_link?"
   ]
  },
  {
   "cell_type": "markdown",
   "id": "800314aa",
   "metadata": {},
   "source": [
    "> **Upit 10:** Koji aerodromi imaju najduže prosečno trajanje leta za letove sa kašnjenjem uzrokovanim kasnim avionom (Delay_LastAircraft > 10 minuta), u uslovima niskog pritiska (pres < 1000 hPa), i home_link?"
   ]
  },
  {
   "cell_type": "code",
   "execution_count": 30,
   "id": "09328d72",
   "metadata": {},
   "outputs": [],
   "source": [
    "pipeline_query_10 = [\n",
    "    # STAGE 1: Filter flights with late aircraft delays\n",
    "    {\n",
    "        \"$match\": {\n",
    "            \"Delay_LastAircraft\": {\"$gt\": 10, \"$ne\": None},\n",
    "            \"Flight_Duration\": {\"$ne\": None}\n",
    "        }\n",
    "    },\n",
    "    # STAGE 2: Join with weather data for pressure conditions\n",
    "    {\n",
    "        \"$lookup\": {\n",
    "            \"from\": \"weather_meteo_by_airport\",\n",
    "            \"localField\": \"Dep_Airport\",\n",
    "            \"foreignField\": \"airport_id\",\n",
    "            \"as\": \"weather_info\"\n",
    "        }\n",
    "    },\n",
    "    # STAGE 3: Unwind weather info\n",
    "    {\n",
    "        \"$unwind\": {\n",
    "            \"path\": \"$weather_info\",\n",
    "            \"preserveNullAndEmptyArrays\": False\n",
    "        }\n",
    "    },\n",
    "    # STAGE 4: Filter for low pressure conditions\n",
    "    {\n",
    "        \"$match\": {\n",
    "            \"weather_info.pres\": {\"$lt\": 1000, \"$ne\": None}\n",
    "        }\n",
    "    },\n",
    "    # STAGE 5: Join with airports to check for home_link\n",
    "    {\n",
    "        \"$lookup\": {\n",
    "            \"from\": \"airports\",\n",
    "            \"localField\": \"Dep_Airport\",\n",
    "            \"foreignField\": \"iata_code\",\n",
    "            \"as\": \"airport_info\"\n",
    "        }\n",
    "    },\n",
    "    # STAGE 6: Unwind airport info\n",
    "    {\n",
    "        \"$unwind\": {\n",
    "            \"path\": \"$airport_info\",\n",
    "            \"preserveNullAndEmptyArrays\": False\n",
    "        }\n",
    "    },\n",
    "    # STAGE 7: Filter airports with home_link\n",
    "    {\n",
    "        \"$match\": {\n",
    "            \"airport_info.home_link\": {\"$ne\": None, \"$ne\": \"\"}\n",
    "        }\n",
    "    },\n",
    "    # STAGE 8: Group by airport and calculate statistics\n",
    "    {\n",
    "        \"$group\": {\n",
    "            \"_id\": \"$Dep_Airport\",\n",
    "            \"avg_flight_duration\": {\"$avg\": \"$Flight_Duration\"},\n",
    "            \"total_flights\": {\"$sum\": 1},\n",
    "            \"avg_late_aircraft_delay\": {\"$avg\": \"$Delay_LastAircraft\"},\n",
    "            \"avg_pressure\": {\"$avg\": \"$weather_info.pres\"},\n",
    "            \"airport_name\": {\"$first\": \"$airport_info.name\"},\n",
    "            \"home_link\": {\"$first\": \"$airport_info.home_link\"},\n",
    "            \"city\": {\"$first\": \"$Dep_CityName\"}\n",
    "        }\n",
    "    },\n",
    "    # STAGE 9: Sort by average flight duration (descending)\n",
    "    {\n",
    "        \"$sort\": {\"avg_flight_duration\": -1}\n",
    "    },\n",
    "    # STAGE 10: Limit to top 15 results\n",
    "    {\n",
    "        \"$limit\": 15\n",
    "    },\n",
    "    # STAGE 11: Project final format\n",
    "    {\n",
    "        \"$project\": {\n",
    "            \"airport_code\": \"$_id\",\n",
    "            \"airport_name\": 1,\n",
    "            \"city\": 1,\n",
    "            \"avg_flight_duration_hours\": {\n",
    "                \"$round\": [\n",
    "                    {\"$divide\": [\"$avg_flight_duration\", 60]}, \n",
    "                    2\n",
    "                ]\n",
    "            },\n",
    "            \"avg_late_aircraft_delay_minutes\": {\"$round\": [\"$avg_late_aircraft_delay\", 2]},\n",
    "            \"avg_pressure_hpa\": {\"$round\": [\"$avg_pressure\", 2]},\n",
    "            \"total_flights_analyzed\": 1,\n",
    "            \"home_link\": 1,\n",
    "            \"_id\": 0\n",
    "        }\n",
    "    }\n",
    "]"
   ]
  },
  {
   "cell_type": "code",
   "execution_count": 31,
   "id": "fb1a96f9",
   "metadata": {},
   "outputs": [
    {
     "name": "stdout",
     "output_type": "stream",
     "text": [
      "Executing query: Airports with longest average flight duration for late aircraft delays in low pressure\n",
      "Query 'Airports with longest average flight duration for late aircraft delays in low pressure' execution time: 0.2885 seconds\n"
     ]
    }
   ],
   "source": [
    "query_results, execution_time = query.execute_query(database.us_flights_2023, pipeline_query_10, \"Airports with longest average flight duration for late aircraft delays in low pressure\")"
   ]
  },
  {
   "cell_type": "markdown",
   "id": "b184a3d8",
   "metadata": {},
   "source": [
    "## **Section 5** Performance optimization"
   ]
  },
  {
   "cell_type": "code",
   "execution_count": null,
   "id": "873a1b33",
   "metadata": {},
   "outputs": [],
   "source": []
  },
  {
   "cell_type": "markdown",
   "id": "806be789",
   "metadata": {},
   "source": [
    "## **Section 6:** Visualization"
   ]
  },
  {
   "cell_type": "code",
   "execution_count": null,
   "id": "6cd0f52c",
   "metadata": {},
   "outputs": [],
   "source": []
  }
 ],
 "metadata": {
  "kernelspec": {
   "display_name": "Python 3",
   "language": "python",
   "name": "python3"
  },
  "language_info": {
   "codemirror_mode": {
    "name": "ipython",
    "version": 3
   },
   "file_extension": ".py",
   "mimetype": "text/x-python",
   "name": "python",
   "nbconvert_exporter": "python",
   "pygments_lexer": "ipython3",
   "version": "3.10.11"
  }
 },
 "nbformat": 4,
 "nbformat_minor": 5
}
